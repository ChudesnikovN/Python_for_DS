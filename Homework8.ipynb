{
 "cells": [
  {
   "cell_type": "markdown",
   "metadata": {},
   "source": [
    "Задание 1"
   ]
  },
  {
   "cell_type": "code",
   "execution_count": 1,
   "metadata": {},
   "outputs": [],
   "source": [
    "import pandas as pd\n",
    "import numpy as np\n",
    "import matplotlib.pyplot as plt\n",
    "from sklearn.cluster import KMeans\n",
    "from sklearn.datasets import load_boston\n",
    "from sklearn.model_selection import train_test_split"
   ]
  },
  {
   "cell_type": "code",
   "execution_count": 2,
   "metadata": {},
   "outputs": [],
   "source": [
    "boston = load_boston()"
   ]
  },
  {
   "cell_type": "code",
   "execution_count": 3,
   "metadata": {},
   "outputs": [],
   "source": [
    "data = boston.data"
   ]
  },
  {
   "cell_type": "code",
   "execution_count": 4,
   "metadata": {},
   "outputs": [],
   "source": [
    "features = boston.feature_names"
   ]
  },
  {
   "cell_type": "code",
   "execution_count": 5,
   "metadata": {},
   "outputs": [],
   "source": [
    "X = pd.DataFrame(data, columns = features)"
   ]
  },
  {
   "cell_type": "code",
   "execution_count": 6,
   "metadata": {},
   "outputs": [],
   "source": [
    "Y  = boston.target"
   ]
  },
  {
   "cell_type": "code",
   "execution_count": 7,
   "metadata": {},
   "outputs": [],
   "source": [
    "X_train, X_test, Y_train, Y_test = train_test_split(X,Y, test_size = 0.2, random_state = 42)"
   ]
  },
  {
   "cell_type": "code",
   "execution_count": 8,
   "metadata": {},
   "outputs": [],
   "source": [
    "from sklearn.preprocessing import StandardScaler"
   ]
  },
  {
   "cell_type": "code",
   "execution_count": 9,
   "metadata": {},
   "outputs": [],
   "source": [
    "skaler = StandardScaler(with_mean = False)"
   ]
  },
  {
   "cell_type": "code",
   "execution_count": 10,
   "metadata": {},
   "outputs": [],
   "source": [
    "X_train_sc = pd.DataFrame(skaler.fit_transform(X_train), columns=X_train.columns)\n",
    "X_test_sc = pd.DataFrame(skaler.transform(X_test), columns=X_test.columns)"
   ]
  },
  {
   "cell_type": "code",
   "execution_count": 11,
   "metadata": {},
   "outputs": [
    {
     "data": {
      "text/html": [
       "<div>\n",
       "<style scoped>\n",
       "    .dataframe tbody tr th:only-of-type {\n",
       "        vertical-align: middle;\n",
       "    }\n",
       "\n",
       "    .dataframe tbody tr th {\n",
       "        vertical-align: top;\n",
       "    }\n",
       "\n",
       "    .dataframe thead th {\n",
       "        text-align: right;\n",
       "    }\n",
       "</style>\n",
       "<table border=\"1\" class=\"dataframe\">\n",
       "  <thead>\n",
       "    <tr style=\"text-align: right;\">\n",
       "      <th></th>\n",
       "      <th>CRIM</th>\n",
       "      <th>ZN</th>\n",
       "      <th>INDUS</th>\n",
       "      <th>CHAS</th>\n",
       "      <th>NOX</th>\n",
       "      <th>RM</th>\n",
       "      <th>AGE</th>\n",
       "      <th>DIS</th>\n",
       "      <th>RAD</th>\n",
       "      <th>TAX</th>\n",
       "      <th>PTRATIO</th>\n",
       "      <th>B</th>\n",
       "      <th>LSTAT</th>\n",
       "    </tr>\n",
       "  </thead>\n",
       "  <tbody>\n",
       "    <tr>\n",
       "      <th>0</th>\n",
       "      <td>1.694865</td>\n",
       "      <td>0.000000</td>\n",
       "      <td>2.628491</td>\n",
       "      <td>0.0</td>\n",
       "      <td>5.222922</td>\n",
       "      <td>7.485465</td>\n",
       "      <td>3.479940</td>\n",
       "      <td>0.986899</td>\n",
       "      <td>2.797502</td>\n",
       "      <td>4.012849</td>\n",
       "      <td>9.074814</td>\n",
       "      <td>3.821411</td>\n",
       "      <td>3.507672</td>\n",
       "    </tr>\n",
       "    <tr>\n",
       "      <th>1</th>\n",
       "      <td>0.070779</td>\n",
       "      <td>0.000000</td>\n",
       "      <td>1.182095</td>\n",
       "      <td>0.0</td>\n",
       "      <td>4.576437</td>\n",
       "      <td>8.233447</td>\n",
       "      <td>2.020726</td>\n",
       "      <td>2.113421</td>\n",
       "      <td>0.466250</td>\n",
       "      <td>1.849767</td>\n",
       "      <td>9.434213</td>\n",
       "      <td>4.325931</td>\n",
       "      <td>1.192693</td>\n",
       "    </tr>\n",
       "    <tr>\n",
       "      <th>2</th>\n",
       "      <td>0.003910</td>\n",
       "      <td>1.513591</td>\n",
       "      <td>0.880036</td>\n",
       "      <td>0.0</td>\n",
       "      <td>3.724947</td>\n",
       "      <td>8.511471</td>\n",
       "      <td>0.833326</td>\n",
       "      <td>3.119769</td>\n",
       "      <td>0.116563</td>\n",
       "      <td>1.831691</td>\n",
       "      <td>7.592295</td>\n",
       "      <td>3.961045</td>\n",
       "      <td>1.102572</td>\n",
       "    </tr>\n",
       "    <tr>\n",
       "      <th>3</th>\n",
       "      <td>0.795393</td>\n",
       "      <td>0.000000</td>\n",
       "      <td>2.628491</td>\n",
       "      <td>0.0</td>\n",
       "      <td>5.222922</td>\n",
       "      <td>8.613084</td>\n",
       "      <td>3.043606</td>\n",
       "      <td>0.949832</td>\n",
       "      <td>2.797502</td>\n",
       "      <td>4.012849</td>\n",
       "      <td>9.074814</td>\n",
       "      <td>0.027555</td>\n",
       "      <td>3.279554</td>\n",
       "    </tr>\n",
       "    <tr>\n",
       "      <th>4</th>\n",
       "      <td>0.081881</td>\n",
       "      <td>0.000000</td>\n",
       "      <td>1.182095</td>\n",
       "      <td>0.0</td>\n",
       "      <td>4.576437</td>\n",
       "      <td>8.082440</td>\n",
       "      <td>2.485671</td>\n",
       "      <td>1.783577</td>\n",
       "      <td>0.466250</td>\n",
       "      <td>1.849767</td>\n",
       "      <td>9.434213</td>\n",
       "      <td>4.274867</td>\n",
       "      <td>1.588380</td>\n",
       "    </tr>\n",
       "  </tbody>\n",
       "</table>\n",
       "</div>"
      ],
      "text/plain": [
       "       CRIM        ZN     INDUS  CHAS       NOX        RM       AGE       DIS  \\\n",
       "0  1.694865  0.000000  2.628491   0.0  5.222922  7.485465  3.479940  0.986899   \n",
       "1  0.070779  0.000000  1.182095   0.0  4.576437  8.233447  2.020726  2.113421   \n",
       "2  0.003910  1.513591  0.880036   0.0  3.724947  8.511471  0.833326  3.119769   \n",
       "3  0.795393  0.000000  2.628491   0.0  5.222922  8.613084  3.043606  0.949832   \n",
       "4  0.081881  0.000000  1.182095   0.0  4.576437  8.082440  2.485671  1.783577   \n",
       "\n",
       "        RAD       TAX   PTRATIO         B     LSTAT  \n",
       "0  2.797502  4.012849  9.074814  3.821411  3.507672  \n",
       "1  0.466250  1.849767  9.434213  4.325931  1.192693  \n",
       "2  0.116563  1.831691  7.592295  3.961045  1.102572  \n",
       "3  2.797502  4.012849  9.074814  0.027555  3.279554  \n",
       "4  0.466250  1.849767  9.434213  4.274867  1.588380  "
      ]
     },
     "execution_count": 11,
     "metadata": {},
     "output_type": "execute_result"
    }
   ],
   "source": [
    "X_train_sc.head()"
   ]
  },
  {
   "cell_type": "code",
   "execution_count": 12,
   "metadata": {},
   "outputs": [
    {
     "data": {
      "text/html": [
       "<div>\n",
       "<style scoped>\n",
       "    .dataframe tbody tr th:only-of-type {\n",
       "        vertical-align: middle;\n",
       "    }\n",
       "\n",
       "    .dataframe tbody tr th {\n",
       "        vertical-align: top;\n",
       "    }\n",
       "\n",
       "    .dataframe thead th {\n",
       "        text-align: right;\n",
       "    }\n",
       "</style>\n",
       "<table border=\"1\" class=\"dataframe\">\n",
       "  <thead>\n",
       "    <tr style=\"text-align: right;\">\n",
       "      <th></th>\n",
       "      <th>CRIM</th>\n",
       "      <th>ZN</th>\n",
       "      <th>INDUS</th>\n",
       "      <th>CHAS</th>\n",
       "      <th>NOX</th>\n",
       "      <th>RM</th>\n",
       "      <th>AGE</th>\n",
       "      <th>DIS</th>\n",
       "      <th>RAD</th>\n",
       "      <th>TAX</th>\n",
       "      <th>PTRATIO</th>\n",
       "      <th>B</th>\n",
       "      <th>LSTAT</th>\n",
       "    </tr>\n",
       "  </thead>\n",
       "  <tbody>\n",
       "    <tr>\n",
       "      <th>0</th>\n",
       "      <td>0.010354</td>\n",
       "      <td>0.000000</td>\n",
       "      <td>0.588143</td>\n",
       "      <td>0.000000</td>\n",
       "      <td>4.338258</td>\n",
       "      <td>9.054816</td>\n",
       "      <td>3.007841</td>\n",
       "      <td>1.243219</td>\n",
       "      <td>0.582813</td>\n",
       "      <td>1.783488</td>\n",
       "      <td>7.457520</td>\n",
       "      <td>4.324619</td>\n",
       "      <td>1.272957</td>\n",
       "    </tr>\n",
       "    <tr>\n",
       "      <th>1</th>\n",
       "      <td>0.006367</td>\n",
       "      <td>1.729819</td>\n",
       "      <td>0.930864</td>\n",
       "      <td>3.874063</td>\n",
       "      <td>3.802355</td>\n",
       "      <td>9.537476</td>\n",
       "      <td>1.176670</td>\n",
       "      <td>1.915637</td>\n",
       "      <td>0.466250</td>\n",
       "      <td>1.530426</td>\n",
       "      <td>7.906769</td>\n",
       "      <td>4.339928</td>\n",
       "      <td>0.497073</td>\n",
       "    </tr>\n",
       "    <tr>\n",
       "      <th>2</th>\n",
       "      <td>0.011929</td>\n",
       "      <td>0.000000</td>\n",
       "      <td>4.028417</td>\n",
       "      <td>0.000000</td>\n",
       "      <td>5.180390</td>\n",
       "      <td>8.443729</td>\n",
       "      <td>3.533587</td>\n",
       "      <td>0.877624</td>\n",
       "      <td>0.466250</td>\n",
       "      <td>4.283988</td>\n",
       "      <td>9.029889</td>\n",
       "      <td>4.265682</td>\n",
       "      <td>2.544506</td>\n",
       "    </tr>\n",
       "    <tr>\n",
       "      <th>3</th>\n",
       "      <td>0.010338</td>\n",
       "      <td>0.000000</td>\n",
       "      <td>1.569834</td>\n",
       "      <td>0.000000</td>\n",
       "      <td>3.513138</td>\n",
       "      <td>8.559455</td>\n",
       "      <td>0.278967</td>\n",
       "      <td>2.483948</td>\n",
       "      <td>0.466250</td>\n",
       "      <td>1.837716</td>\n",
       "      <td>8.625566</td>\n",
       "      <td>4.274430</td>\n",
       "      <td>0.777292</td>\n",
       "    </tr>\n",
       "    <tr>\n",
       "      <th>4</th>\n",
       "      <td>0.574248</td>\n",
       "      <td>0.000000</td>\n",
       "      <td>2.628491</td>\n",
       "      <td>0.000000</td>\n",
       "      <td>6.065055</td>\n",
       "      <td>8.886873</td>\n",
       "      <td>3.283232</td>\n",
       "      <td>1.112569</td>\n",
       "      <td>2.797502</td>\n",
       "      <td>4.012849</td>\n",
       "      <td>9.074814</td>\n",
       "      <td>4.210790</td>\n",
       "      <td>2.431855</td>\n",
       "    </tr>\n",
       "  </tbody>\n",
       "</table>\n",
       "</div>"
      ],
      "text/plain": [
       "       CRIM        ZN     INDUS      CHAS       NOX        RM       AGE  \\\n",
       "0  0.010354  0.000000  0.588143  0.000000  4.338258  9.054816  3.007841   \n",
       "1  0.006367  1.729819  0.930864  3.874063  3.802355  9.537476  1.176670   \n",
       "2  0.011929  0.000000  4.028417  0.000000  5.180390  8.443729  3.533587   \n",
       "3  0.010338  0.000000  1.569834  0.000000  3.513138  8.559455  0.278967   \n",
       "4  0.574248  0.000000  2.628491  0.000000  6.065055  8.886873  3.283232   \n",
       "\n",
       "        DIS       RAD       TAX   PTRATIO         B     LSTAT  \n",
       "0  1.243219  0.582813  1.783488  7.457520  4.324619  1.272957  \n",
       "1  1.915637  0.466250  1.530426  7.906769  4.339928  0.497073  \n",
       "2  0.877624  0.466250  4.283988  9.029889  4.265682  2.544506  \n",
       "3  2.483948  0.466250  1.837716  8.625566  4.274430  0.777292  \n",
       "4  1.112569  2.797502  4.012849  9.074814  4.210790  2.431855  "
      ]
     },
     "execution_count": 12,
     "metadata": {},
     "output_type": "execute_result"
    }
   ],
   "source": [
    "X_test_sc.head()"
   ]
  },
  {
   "cell_type": "code",
   "execution_count": 13,
   "metadata": {},
   "outputs": [],
   "source": [
    "from sklearn.manifold import TSNE"
   ]
  },
  {
   "cell_type": "code",
   "execution_count": 14,
   "metadata": {},
   "outputs": [],
   "source": [
    "t_sne = TSNE(n_components=2, learning_rate=250, random_state = 42)"
   ]
  },
  {
   "cell_type": "code",
   "execution_count": 15,
   "metadata": {},
   "outputs": [],
   "source": [
    "X_train_t_sne = t_sne.fit_transform(X_train_sc)"
   ]
  },
  {
   "cell_type": "code",
   "execution_count": 16,
   "metadata": {},
   "outputs": [
    {
     "data": {
      "text/plain": [
       "(404, 13)"
      ]
     },
     "execution_count": 16,
     "metadata": {},
     "output_type": "execute_result"
    }
   ],
   "source": [
    "X_train_sc.shape"
   ]
  },
  {
   "cell_type": "code",
   "execution_count": 17,
   "metadata": {},
   "outputs": [
    {
     "data": {
      "text/plain": [
       "(404, 2)"
      ]
     },
     "execution_count": 17,
     "metadata": {},
     "output_type": "execute_result"
    }
   ],
   "source": [
    "X_train_t_sne.shape"
   ]
  },
  {
   "cell_type": "code",
   "execution_count": 18,
   "metadata": {},
   "outputs": [
    {
     "data": {
      "text/plain": [
       "<matplotlib.collections.PathCollection at 0xc4fe780>"
      ]
     },
     "execution_count": 18,
     "metadata": {},
     "output_type": "execute_result"
    },
    {
     "data": {
      "image/png": "[encoded data removed]",
      "text/plain": [
       "<Figure size 432x288 with 1 Axes>"
      ]
     },
     "metadata": {
      "needs_background": "light"
     },
     "output_type": "display_data"
    }
   ],
   "source": [
    "plt.scatter(X_train_t_sne[:,0], X_train_t_sne[:,1])"
   ]
  },
  {
   "cell_type": "code",
   "execution_count": 19,
   "metadata": {},
   "outputs": [],
   "source": [
    "kmeans = KMeans(n_clusters=3)"
   ]
  },
  {
   "cell_type": "code",
   "execution_count": 20,
   "metadata": {},
   "outputs": [],
   "source": [
    "labels_train = kmeans.fit_predict(X_train_sc)"
   ]
  },
  {
   "cell_type": "code",
   "execution_count": 21,
   "metadata": {},
   "outputs": [
    {
     "data": {
      "text/plain": [
       "<matplotlib.collections.PathCollection at 0xc59b7f0>"
      ]
     },
     "execution_count": 21,
     "metadata": {},
     "output_type": "execute_result"
    },
    {
     "data": {
      "image/png": "[encoded data removed]",
      "text/plain": [
       "<Figure size 432x288 with 1 Axes>"
      ]
     },
     "metadata": {
      "needs_background": "light"
     },
     "output_type": "display_data"
    }
   ],
   "source": [
    "plt.scatter(X_train_t_sne[:,0], X_train_t_sne[:,1], c=labels_train)"
   ]
  },
  {
   "cell_type": "code",
   "execution_count": 22,
   "metadata": {},
   "outputs": [
    {
     "data": {
      "text/plain": [
       "0.07356558139534886"
      ]
     },
     "execution_count": 22,
     "metadata": {},
     "output_type": "execute_result"
    }
   ],
   "source": [
    "X_train.loc[labels_train == 0, 'CRIM'].mean()"
   ]
  },
  {
   "cell_type": "code",
   "execution_count": 23,
   "metadata": {},
   "outputs": [
    {
     "data": {
      "text/plain": [
       "10.715219062500003"
      ]
     },
     "execution_count": 23,
     "metadata": {},
     "output_type": "execute_result"
    }
   ],
   "source": [
    "X_train.loc[labels_train == 1, 'CRIM'].mean()"
   ]
  },
  {
   "cell_type": "code",
   "execution_count": 24,
   "metadata": {},
   "outputs": [
    {
     "data": {
      "text/plain": [
       "0.4221666842105262"
      ]
     },
     "execution_count": 24,
     "metadata": {},
     "output_type": "execute_result"
    }
   ],
   "source": [
    "X_train.loc[labels_train == 2, 'CRIM'].mean()"
   ]
  },
  {
   "cell_type": "code",
   "execution_count": 34,
   "metadata": {},
   "outputs": [
    {
     "data": {
      "text/plain": [
       "27.78837209302326"
      ]
     },
     "execution_count": 34,
     "metadata": {},
     "output_type": "execute_result"
    }
   ],
   "source": [
    "Y_train[labels_train == 0].mean()\n"
   ]
  },
  {
   "cell_type": "code",
   "execution_count": 37,
   "metadata": {},
   "outputs": [
    {
     "data": {
      "text/plain": [
       "16.1796875"
      ]
     },
     "execution_count": 37,
     "metadata": {},
     "output_type": "execute_result"
    }
   ],
   "source": [
    "Y_train[labels_train == 1].mean()"
   ]
  },
  {
   "cell_type": "code",
   "execution_count": 36,
   "metadata": {},
   "outputs": [
    {
     "data": {
      "text/plain": [
       "24.99473684210526"
      ]
     },
     "execution_count": 36,
     "metadata": {},
     "output_type": "execute_result"
    }
   ],
   "source": [
    "Y_train[labels_train == 2].mean()"
   ]
  },
  {
   "cell_type": "code",
   "execution_count": 40,
   "metadata": {},
   "outputs": [],
   "source": [
    "labels_train_test = kmeans.predict(X_test_sc)"
   ]
  },
  {
   "cell_type": "code",
   "execution_count": 41,
   "metadata": {},
   "outputs": [
    {
     "data": {
      "text/plain": [
       "array([2, 2, 1, 2, 1, 2, 2, 1, 1, 2, 2, 2, 1, 2, 2, 1, 2, 1, 0, 1, 2, 2,\n",
       "       2, 2, 1, 1, 2, 1, 2, 2, 2, 2, 1, 1, 1, 1, 2, 2, 2, 2, 2, 2, 0, 2,\n",
       "       2, 1, 2, 2, 1, 2, 2, 2, 2, 2, 2, 1, 1, 0, 2, 2, 2, 0, 2, 2, 0, 2,\n",
       "       1, 2, 0, 1, 2, 1, 1, 0, 2, 1, 2, 0, 1, 1, 2, 1, 0, 1, 2, 2, 1, 2,\n",
       "       2, 1, 2, 1, 1, 2, 1, 1, 1, 1, 1, 1, 2, 2])"
      ]
     },
     "execution_count": 41,
     "metadata": {},
     "output_type": "execute_result"
    }
   ],
   "source": [
    "labels_train_test"
   ]
  },
  {
   "cell_type": "code",
   "execution_count": 44,
   "metadata": {},
   "outputs": [
    {
     "data": {
      "text/plain": [
       "34.3111111111111"
      ]
     },
     "execution_count": 44,
     "metadata": {},
     "output_type": "execute_result"
    }
   ],
   "source": [
    "Y_test[labels_train_test == 0].mean()"
   ]
  },
  {
   "cell_type": "code",
   "execution_count": 45,
   "metadata": {},
   "outputs": [
    {
     "data": {
      "text/plain": [
       "16.710526315789473"
      ]
     },
     "execution_count": 45,
     "metadata": {},
     "output_type": "execute_result"
    }
   ],
   "source": [
    "Y_test[labels_train_test == 1].mean()"
   ]
  },
  {
   "cell_type": "code",
   "execution_count": 46,
   "metadata": {},
   "outputs": [
    {
     "data": {
      "text/plain": [
       "22.690909090909095"
      ]
     },
     "execution_count": 46,
     "metadata": {},
     "output_type": "execute_result"
    }
   ],
   "source": [
    "Y_test[labels_train_test == 2].mean()"
   ]
  },
  {
   "cell_type": "code",
   "execution_count": null,
   "metadata": {},
   "outputs": [],
   "source": []
  }
 ],
 "metadata": {
  "kernelspec": {
   "display_name": "Python 3",
   "language": "python",
   "name": "python3"
  },
  "language_info": {
   "codemirror_mode": {
    "name": "ipython",
    "version": 3
   },
   "file_extension": ".py",
   "mimetype": "text/x-python",
   "name": "python",
   "nbconvert_exporter": "python",
   "pygments_lexer": "ipython3",
   "version": "3.7.3"
  }
 },
 "nbformat": 4,
 "nbformat_minor": 2
}
